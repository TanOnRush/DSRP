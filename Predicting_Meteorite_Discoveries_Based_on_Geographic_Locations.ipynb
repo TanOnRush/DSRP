{
  "nbformat": 4,
  "nbformat_minor": 0,
  "metadata": {
    "colab": {
      "provenance": [],
      "authorship_tag": "ABX9TyODY4YQG/mopLbap5QhgQEv",
      "include_colab_link": true
    },
    "kernelspec": {
      "name": "python3",
      "display_name": "Python 3"
    },
    "language_info": {
      "name": "python"
    }
  },
  "cells": [
    {
      "cell_type": "markdown",
      "metadata": {
        "id": "view-in-github",
        "colab_type": "text"
      },
      "source": [
        "<a href=\"https://colab.research.google.com/github/TanOnRush/Meteorite-Discovery-Predictions/blob/main/Predicting_Meteorite_Discoveries_Based_on_Geographic_Locations.ipynb\" target=\"_parent\"><img src=\"https://colab.research.google.com/assets/colab-badge.svg\" alt=\"Open In Colab\"/></a>"
      ]
    },
    {
      "cell_type": "markdown",
      "source": [
        "# **Predicting Meteorite Discoveries Based on Geogrpahic Locations**\n",
        "## **Abstract**\n",
        "This research project discovers the connection between meteorite discoveries and geographic locations. It determines how a meteorite landing's geographic location influences the likelihood of its discovery. The approach to the probelm includes analyzing a dataset from **The Meteoritical Society** which was published in **NASA's Open Data Portal** site. The dataset includes over 45,000 entries of meteorites. The analysis also uses several libraries, which includes `pandas`, `matplotlib`, `seaborn` and more. The study aims to predict future findings based on location. The results has shown that the georgraphic location of a meteorite landing significantly influences the likelihood of its discovery. The analysis is also revealed that a non-uniform ditribution of recorded landings. It also proves the fact that certain geogrpahic locations, such as deserts like Antartica, make meteorites easier to find and the identify compared to other environments. While the data shows a concentration of landings in certain areas, this may be influenced by biases in recovery efforts and the absence on oceanic landings. But further research is needed to provide a more complete understanding of global meteorite landing patterns.\n",
        "\n",
        "---\n",
        "## **Background**\n",
        "The study of meteorites provides critical undedrstanding into the formation and history of our solar system. However, the discovery and collection of these extraterrestrial materials are not uniformly distributed accross the globe. Researchers has observed that certain geographic regions yield a disproportionately high number of meteorite finds. This is primarily due to the unique environmental conditions of these areas, where metoeries are preserved for extended periods and are more easily distinguished from the surrounding terrain. In contrast, other regions with dense vegitation, high humidity, or significant human development present challenges to both preservation and discovery. This research project aims to leverage a comprehensive dataset of recordedd meteorite landings to investigate the factors that influence the likelihood of a meteorite's discovery, by that means contributing to a better understanding of global discovery patterns.\n",
        "\n",
        "---\n",
        "## **Research Question**\n",
        "How does a meteorite landing's geographic location influence the likelihood of its discovery, and can this relationship be used to predict future discoveries?\n",
        "\n",
        "---\n",
        "## **Hypothesis**\n",
        "Based on the initial data exploration and existing knowledge in the field, I propose the following hypotheses:\n",
        "\n",
        "\n",
        "*   **Hypothesis 1:** Meteorite discovery locations are not uniformly distributed across the globe.\n",
        "*   **Hypothesis 2:** Geographic features, such as latitude, are a signficiant factor in the distribution of recorded meteorite landings. I hypthesize that a higher concentration of discoveries will be found in specific latitude bands.\n",
        "*   **Hypothesis 3:** Meteorite discovery rates are higher in regions with environments that enable easier identification."
      ],
      "metadata": {
        "id": "c54sNCw1YNJG"
      }
    }
  ]
}