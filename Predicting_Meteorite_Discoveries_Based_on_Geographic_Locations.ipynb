{
  "nbformat": 4,
  "nbformat_minor": 0,
  "metadata": {
    "colab": {
      "provenance": [],
      "authorship_tag": "ABX9TyPfIP2QQpqoSYNVHxzlt3vS",
      "include_colab_link": true
    },
    "kernelspec": {
      "name": "python3",
      "display_name": "Python 3"
    },
    "language_info": {
      "name": "python"
    }
  },
  "cells": [
    {
      "cell_type": "markdown",
      "metadata": {
        "id": "view-in-github",
        "colab_type": "text"
      },
      "source": [
        "<a href=\"https://colab.research.google.com/github/TanOnRush/DSRP/blob/main/Predicting_Meteorite_Discoveries_Based_on_Geographic_Locations.ipynb\" target=\"_parent\"><img src=\"https://colab.research.google.com/assets/colab-badge.svg\" alt=\"Open In Colab\"/></a>"
      ]
    },
    {
      "cell_type": "markdown",
      "source": [
        "# **Abstract**\n",
        "This research project discovers the connection between meteorite discoveries and geographic locations. It determines how a meteorite landing's geographic location influences the likelihood of its discovery. The approach to the probelm includes analyzing a dataset from **The Meteoritical Society** which was published in **NASA's Open Data Portal** site. The dataset includes over 45,000 entries of meteorites. The analysis also uses several libraries, which includes `pandas`, `matplotlib`, `seaborn` and more. The study aims to predict future findings based on location. The results has shown that the georgraphic location of a meteorite landing significantly influences the likelihood of its discovery. The analysis is also revealed that a non-uniform ditribution of recorded landings. It also proves the fact that certain geogrpahic locations, such as deserts like Antartica, make meteorites easier to find and the identify compared to other environments. While the data shows a concentration of landings in certain areas, this may be influenced by biases in recovery efforts and the absence on oceanic landings. But further research is needed to provide a more complete understanding of global meteorite landing patterns."
      ],
      "metadata": {
        "id": "c54sNCw1YNJG"
      }
    }
  ]
}